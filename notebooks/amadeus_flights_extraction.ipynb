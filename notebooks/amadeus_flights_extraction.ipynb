{
 "cells": [
  {
   "cell_type": "code",
   "execution_count": 11,
   "metadata": {},
   "outputs": [],
   "source": [
    "import os\n",
    "import sys\n",
    "from pyspark.sql import SparkSession\n",
    "from pyspark.sql.functions import explode, concat, col, regexp_extract,  regexp_replace, coalesce, lit, date_format"
   ]
  },
  {
   "cell_type": "code",
   "execution_count": 2,
   "metadata": {},
   "outputs": [
    {
     "name": "stderr",
     "output_type": "stream",
     "text": [
      "your 131072x1 screen size is bogus. expect trouble\n",
      "25/02/01 11:24:11 WARN Utils: Your hostname, 01120230807W11I resolves to a loopback address: 127.0.1.1; using 172.24.33.137 instead (on interface eth0)\n",
      "25/02/01 11:24:11 WARN Utils: Set SPARK_LOCAL_IP if you need to bind to another address\n",
      "Setting default log level to \"WARN\".\n",
      "To adjust logging level use sc.setLogLevel(newLevel). For SparkR, use setLogLevel(newLevel).\n",
      "25/02/01 11:24:21 WARN NativeCodeLoader: Unable to load native-hadoop library for your platform... using builtin-java classes where applicable\n"
     ]
    }
   ],
   "source": [
    "spark = SparkSession.builder \\\n",
    "    .appName(\"Notebook Glue Job Simulation\") \\\n",
    "    .config(\"spark.driver.memory\", \"2g\") \\\n",
    "    .config(\"spark.executor.memory\", \"2g\") \\\n",
    "    .getOrCreate()"
   ]
  },
  {
   "cell_type": "code",
   "execution_count": 3,
   "metadata": {},
   "outputs": [],
   "source": [
    "json_path = \"../data/amadeus_info_example.json\"\n",
    "df = spark.read.option(\"multiline\", \"true\").json(json_path)\n"
   ]
  },
  {
   "cell_type": "code",
   "execution_count": 4,
   "metadata": {},
   "outputs": [
    {
     "name": "stdout",
     "output_type": "stream",
     "text": [
      "root\n",
      " |-- data: array (nullable = true)\n",
      " |    |-- element: struct (containsNull = true)\n",
      " |    |    |-- id: string (nullable = true)\n",
      " |    |    |-- instantTicketingRequired: boolean (nullable = true)\n",
      " |    |    |-- isUpsellOffer: boolean (nullable = true)\n",
      " |    |    |-- itineraries: array (nullable = true)\n",
      " |    |    |    |-- element: struct (containsNull = true)\n",
      " |    |    |    |    |-- duration: string (nullable = true)\n",
      " |    |    |    |    |-- segments: array (nullable = true)\n",
      " |    |    |    |    |    |-- element: struct (containsNull = true)\n",
      " |    |    |    |    |    |    |-- aircraft: struct (nullable = true)\n",
      " |    |    |    |    |    |    |    |-- code: string (nullable = true)\n",
      " |    |    |    |    |    |    |-- arrival: struct (nullable = true)\n",
      " |    |    |    |    |    |    |    |-- at: string (nullable = true)\n",
      " |    |    |    |    |    |    |    |-- iataCode: string (nullable = true)\n",
      " |    |    |    |    |    |    |-- blacklistedInEU: boolean (nullable = true)\n",
      " |    |    |    |    |    |    |-- carrierCode: string (nullable = true)\n",
      " |    |    |    |    |    |    |-- departure: struct (nullable = true)\n",
      " |    |    |    |    |    |    |    |-- at: string (nullable = true)\n",
      " |    |    |    |    |    |    |    |-- iataCode: string (nullable = true)\n",
      " |    |    |    |    |    |    |    |-- terminal: string (nullable = true)\n",
      " |    |    |    |    |    |    |-- duration: string (nullable = true)\n",
      " |    |    |    |    |    |    |-- id: string (nullable = true)\n",
      " |    |    |    |    |    |    |-- number: string (nullable = true)\n",
      " |    |    |    |    |    |    |-- numberOfStops: long (nullable = true)\n",
      " |    |    |    |    |    |    |-- operating: struct (nullable = true)\n",
      " |    |    |    |    |    |    |    |-- carrierCode: string (nullable = true)\n",
      " |    |    |-- lastTicketingDate: string (nullable = true)\n",
      " |    |    |-- lastTicketingDateTime: string (nullable = true)\n",
      " |    |    |-- nonHomogeneous: boolean (nullable = true)\n",
      " |    |    |-- numberOfBookableSeats: long (nullable = true)\n",
      " |    |    |-- oneWay: boolean (nullable = true)\n",
      " |    |    |-- price: struct (nullable = true)\n",
      " |    |    |    |-- additionalServices: array (nullable = true)\n",
      " |    |    |    |    |-- element: struct (containsNull = true)\n",
      " |    |    |    |    |    |-- amount: string (nullable = true)\n",
      " |    |    |    |    |    |-- type: string (nullable = true)\n",
      " |    |    |    |-- base: string (nullable = true)\n",
      " |    |    |    |-- currency: string (nullable = true)\n",
      " |    |    |    |-- fees: array (nullable = true)\n",
      " |    |    |    |    |-- element: struct (containsNull = true)\n",
      " |    |    |    |    |    |-- amount: string (nullable = true)\n",
      " |    |    |    |    |    |-- type: string (nullable = true)\n",
      " |    |    |    |-- grandTotal: string (nullable = true)\n",
      " |    |    |    |-- total: string (nullable = true)\n",
      " |    |    |-- pricingOptions: struct (nullable = true)\n",
      " |    |    |    |-- fareType: array (nullable = true)\n",
      " |    |    |    |    |-- element: string (containsNull = true)\n",
      " |    |    |    |-- includedCheckedBagsOnly: boolean (nullable = true)\n",
      " |    |    |-- source: string (nullable = true)\n",
      " |    |    |-- travelerPricings: array (nullable = true)\n",
      " |    |    |    |-- element: struct (containsNull = true)\n",
      " |    |    |    |    |-- fareDetailsBySegment: array (nullable = true)\n",
      " |    |    |    |    |    |-- element: struct (containsNull = true)\n",
      " |    |    |    |    |    |    |-- amenities: array (nullable = true)\n",
      " |    |    |    |    |    |    |    |-- element: struct (containsNull = true)\n",
      " |    |    |    |    |    |    |    |    |-- amenityProvider: struct (nullable = true)\n",
      " |    |    |    |    |    |    |    |    |    |-- name: string (nullable = true)\n",
      " |    |    |    |    |    |    |    |    |-- amenityType: string (nullable = true)\n",
      " |    |    |    |    |    |    |    |    |-- description: string (nullable = true)\n",
      " |    |    |    |    |    |    |    |    |-- isChargeable: boolean (nullable = true)\n",
      " |    |    |    |    |    |    |-- brandedFare: string (nullable = true)\n",
      " |    |    |    |    |    |    |-- brandedFareLabel: string (nullable = true)\n",
      " |    |    |    |    |    |    |-- cabin: string (nullable = true)\n",
      " |    |    |    |    |    |    |-- class: string (nullable = true)\n",
      " |    |    |    |    |    |    |-- fareBasis: string (nullable = true)\n",
      " |    |    |    |    |    |    |-- includedCheckedBags: struct (nullable = true)\n",
      " |    |    |    |    |    |    |    |-- quantity: long (nullable = true)\n",
      " |    |    |    |    |    |    |-- segmentId: string (nullable = true)\n",
      " |    |    |    |    |-- fareOption: string (nullable = true)\n",
      " |    |    |    |    |-- price: struct (nullable = true)\n",
      " |    |    |    |    |    |-- base: string (nullable = true)\n",
      " |    |    |    |    |    |-- currency: string (nullable = true)\n",
      " |    |    |    |    |    |-- total: string (nullable = true)\n",
      " |    |    |    |    |-- travelerId: string (nullable = true)\n",
      " |    |    |    |    |-- travelerType: string (nullable = true)\n",
      " |    |    |-- type: string (nullable = true)\n",
      " |    |    |-- validatingAirlineCodes: array (nullable = true)\n",
      " |    |    |    |-- element: string (containsNull = true)\n",
      " |-- dictionaries: struct (nullable = true)\n",
      " |    |-- aircraft: struct (nullable = true)\n",
      " |    |    |-- 32A: string (nullable = true)\n",
      " |    |    |-- 32S: string (nullable = true)\n",
      " |    |    |-- 73H: string (nullable = true)\n",
      " |    |    |-- 73J: string (nullable = true)\n",
      " |    |    |-- 789: string (nullable = true)\n",
      " |    |-- carriers: struct (nullable = true)\n",
      " |    |    |-- I2: string (nullable = true)\n",
      " |    |    |-- IB: string (nullable = true)\n",
      " |    |    |-- KL: string (nullable = true)\n",
      " |    |    |-- UX: string (nullable = true)\n",
      " |    |    |-- VY: string (nullable = true)\n",
      " |    |-- currencies: struct (nullable = true)\n",
      " |    |    |-- EUR: string (nullable = true)\n",
      " |    |-- locations: struct (nullable = true)\n",
      " |    |    |-- AMS: struct (nullable = true)\n",
      " |    |    |    |-- cityCode: string (nullable = true)\n",
      " |    |    |    |-- countryCode: string (nullable = true)\n",
      " |    |    |-- MAD: struct (nullable = true)\n",
      " |    |    |    |-- cityCode: string (nullable = true)\n",
      " |    |    |    |-- countryCode: string (nullable = true)\n",
      " |-- meta: struct (nullable = true)\n",
      " |    |-- count: long (nullable = true)\n",
      " |    |-- links: struct (nullable = true)\n",
      " |    |    |-- self: string (nullable = true)\n",
      "\n"
     ]
    }
   ],
   "source": [
    "df.printSchema()"
   ]
  },
  {
   "cell_type": "code",
   "execution_count": 14,
   "metadata": {},
   "outputs": [],
   "source": [
    "exploded_df = df.withColumn(\"flight_offer\", explode(\"data\"))\n",
    "\n",
    "# Extrae los datos y mantén las columnas necesarias\n",
    "flights_df = exploded_df.selectExpr(\n",
    "    \"flight_offer.id as flight_id\",\n",
    "    \"flight_offer.itineraries[0].segments[0].departure.iataCode as departure_airport\",\n",
    "    \"flight_offer.itineraries[0].segments[0].departure.at as departure_time\",\n",
    "    \"flight_offer.itineraries[0].segments[0].departure.terminal as departure_terminal\",\n",
    "    \"flight_offer.itineraries[0].segments[0].arrival.iataCode as arrival_airport\",\n",
    "    \"flight_offer.itineraries[0].segments[0].arrival.at as arrival_time\",\n",
    "    \"flight_offer.itineraries[0].segments[0].carrierCode as carrier\",\n",
    "    \"flight_offer.itineraries[0].segments[0].number as flight_number\",\n",
    "    \"flight_offer.itineraries[0].segments[0].aircraft.code as aircraft_code\",\n",
    "    \"flight_offer.itineraries[0].segments[0].operating.carrierCode as operating_company_code\",\n",
    "    \"flight_offer.itineraries[0].segments[0].duration as flight_duration\",\n",
    "    \"flight_offer.itineraries[0].segments[0].numberOfStops as number_of_stops\",\n",
    "    \"flight_offer.itineraries[0].segments[0].blacklistedInEU as blacklisted_in_eu\",\n",
    "    \"flight_offer.price.total as total_price\",\n",
    "    \"flight_offer.price.currency as currency\"\n",
    ")"
   ]
  },
  {
   "cell_type": "code",
   "execution_count": 15,
   "metadata": {},
   "outputs": [
    {
     "name": "stdout",
     "output_type": "stream",
     "text": [
      "+---------+-----------------+-------------------+------------------+---------------+-------------------+-------+-------------+-------------+----------------------+---------------+---------------+-----------------+-----------+--------+\n",
      "|flight_id|departure_airport|     departure_time|departure_terminal|arrival_airport|       arrival_time|carrier|flight_number|aircraft_code|operating_company_code|flight_duration|number_of_stops|blacklisted_in_eu|total_price|currency|\n",
      "+---------+-----------------+-------------------+------------------+---------------+-------------------+-------+-------------+-------------+----------------------+---------------+---------------+-----------------+-----------+--------+\n",
      "|        1|              MAD|2024-09-11T07:05:00|                 2|            AMS|2024-09-11T09:40:00|     UX|         1091|          789|                    UX|        PT2H35M|              0|            false|      62.80|     EUR|\n",
      "|        2|              MAD|2024-09-11T15:00:00|                 2|            AMS|2024-09-11T17:35:00|     UX|         1093|          73H|                    UX|        PT2H35M|              0|            false|      73.80|     EUR|\n",
      "|        3|              MAD|2024-09-11T08:40:00|                 4|            AMS|2024-09-11T11:20:00|     VY|         5821|          32S|                  NULL|        PT2H40M|              0|            false|      75.80|     EUR|\n",
      "|        4|              MAD|2024-09-11T15:50:00|                 4|            AMS|2024-09-11T18:30:00|     VY|         5826|          32S|                  NULL|        PT2H40M|              0|            false|      75.80|     EUR|\n",
      "|        5|              MAD|2024-09-11T08:40:00|                 4|            AMS|2024-09-11T11:20:00|     IB|         3722|          32A|                    I2|        PT2H40M|              0|            false|      80.80|     EUR|\n",
      "|        6|              MAD|2024-09-11T13:05:00|                 4|            AMS|2024-09-11T15:45:00|     IB|         3720|          32A|                    I2|        PT2H40M|              0|            false|      80.80|     EUR|\n",
      "|        7|              MAD|2024-09-11T15:50:00|                 4|            AMS|2024-09-11T18:30:00|     IB|         3724|          32A|                    I2|        PT2H40M|              0|            false|      80.80|     EUR|\n",
      "|        8|              MAD|2024-09-11T06:00:00|                 2|            AMS|2024-09-11T08:25:00|     KL|         1500|          73H|                    KL|        PT2H25M|              0|            false|     126.80|     EUR|\n",
      "|        9|              MAD|2024-09-11T13:05:00|                 2|            AMS|2024-09-11T15:35:00|     KL|         1504|          73H|                    KL|        PT2H30M|              0|            false|     126.80|     EUR|\n",
      "|       10|              MAD|2024-09-11T17:10:00|                 2|            AMS|2024-09-11T19:45:00|     KL|         1506|          73J|                    KL|        PT2H35M|              0|            false|     126.80|     EUR|\n",
      "|       11|              MAD|2024-09-11T10:20:00|                 2|            AMS|2024-09-11T13:00:00|     KL|         1502|          73H|                    KL|        PT2H40M|              0|            false|     126.80|     EUR|\n",
      "|       12|              MAD|2024-09-11T20:20:00|                 2|            AMS|2024-09-11T23:00:00|     KL|         1508|          73H|                    KL|        PT2H40M|              0|            false|     126.80|     EUR|\n",
      "+---------+-----------------+-------------------+------------------+---------------+-------------------+-------+-------------+-------------+----------------------+---------------+---------------+-----------------+-----------+--------+\n",
      "\n"
     ]
    }
   ],
   "source": [
    "flights_df.show()"
   ]
  },
  {
   "cell_type": "code",
   "execution_count": 12,
   "metadata": {},
   "outputs": [
    {
     "ename": "AnalysisException",
     "evalue": "[UNRESOLVED_COLUMN.WITH_SUGGESTION] A column or function parameter with name `ori` cannot be resolved. Did you mean one of the following? [`flight_id`, `departure_airport`, `departure_time`, `departure_terminal`, `arrival_airport`, `arrival_time`, `carrier`, `flight_number`, `aircraft_code`, `company_code`, `flight_duration`, `number_of_stops`, `blacklisted_in_eu`, `total_price`, `currency`].",
     "output_type": "error",
     "traceback": [
      "\u001b[0;31m---------------------------------------------------------------------------\u001b[0m",
      "\u001b[0;31mAnalysisException\u001b[0m                         Traceback (most recent call last)",
      "Cell \u001b[0;32mIn[12], line 5\u001b[0m\n\u001b[1;32m      1\u001b[0m flights_df \u001b[38;5;241m=\u001b[39m flights_df\u001b[38;5;241m.\u001b[39mwithColumn(\n\u001b[1;32m      2\u001b[0m     \u001b[38;5;124m\"\u001b[39m\u001b[38;5;124midentifier\u001b[39m\u001b[38;5;124m\"\u001b[39m,\n\u001b[1;32m      3\u001b[0m     concat(\n\u001b[1;32m      4\u001b[0m         lit(\u001b[38;5;124m\"\u001b[39m\u001b[38;5;124mID-\u001b[39m\u001b[38;5;124m\"\u001b[39m), \n\u001b[0;32m----> 5\u001b[0m         \u001b[43mflights_df\u001b[49m\u001b[43m[\u001b[49m\u001b[38;5;124;43m\"\u001b[39;49m\u001b[38;5;124;43mori\u001b[39;49m\u001b[38;5;124;43m\"\u001b[39;49m\u001b[43m]\u001b[49m, \n\u001b[1;32m      6\u001b[0m         lit(\u001b[38;5;124m\"\u001b[39m\u001b[38;5;124m-\u001b[39m\u001b[38;5;124m\"\u001b[39m), \n\u001b[1;32m      7\u001b[0m         flights_df[\u001b[38;5;124m\"\u001b[39m\u001b[38;5;124mdest\u001b[39m\u001b[38;5;124m\"\u001b[39m], \n\u001b[1;32m      8\u001b[0m         lit(\u001b[38;5;124m\"\u001b[39m\u001b[38;5;124m-\u001b[39m\u001b[38;5;124m\"\u001b[39m), \n\u001b[1;32m      9\u001b[0m         regexp_replace(date_format(flights_df[\u001b[38;5;124m\"\u001b[39m\u001b[38;5;124mdeparture_time\u001b[39m\u001b[38;5;124m\"\u001b[39m], \u001b[38;5;124m\"\u001b[39m\u001b[38;5;124myyyy-MM-dd\u001b[39m\u001b[38;5;124m\"\u001b[39m), \u001b[38;5;124m\"\u001b[39m\u001b[38;5;124m-\u001b[39m\u001b[38;5;124m\"\u001b[39m, \u001b[38;5;124m\"\u001b[39m\u001b[38;5;124m\"\u001b[39m),\n\u001b[1;32m     10\u001b[0m         lit(\u001b[38;5;124m\"\u001b[39m\u001b[38;5;124m-\u001b[39m\u001b[38;5;124m\"\u001b[39m),\n\u001b[1;32m     11\u001b[0m         flights_df[\u001b[38;5;124m\"\u001b[39m\u001b[38;5;124mflight_id\u001b[39m\u001b[38;5;124m\"\u001b[39m]\n\u001b[1;32m     12\u001b[0m     )\n\u001b[1;32m     13\u001b[0m )\n",
      "File \u001b[0;32m~/.pyenv/versions/3.10.13/lib/python3.10/site-packages/pyspark/sql/dataframe.py:3080\u001b[0m, in \u001b[0;36mDataFrame.__getitem__\u001b[0;34m(self, item)\u001b[0m\n\u001b[1;32m   3008\u001b[0m \u001b[38;5;250m\u001b[39m\u001b[38;5;124;03m\"\"\"Returns the column as a :class:`Column`.\u001b[39;00m\n\u001b[1;32m   3009\u001b[0m \n\u001b[1;32m   3010\u001b[0m \u001b[38;5;124;03m.. versionadded:: 1.3.0\u001b[39;00m\n\u001b[0;32m   (...)\u001b[0m\n\u001b[1;32m   3077\u001b[0m \u001b[38;5;124;03m+---+----+\u001b[39;00m\n\u001b[1;32m   3078\u001b[0m \u001b[38;5;124;03m\"\"\"\u001b[39;00m\n\u001b[1;32m   3079\u001b[0m \u001b[38;5;28;01mif\u001b[39;00m \u001b[38;5;28misinstance\u001b[39m(item, \u001b[38;5;28mstr\u001b[39m):\n\u001b[0;32m-> 3080\u001b[0m     jc \u001b[38;5;241m=\u001b[39m \u001b[38;5;28;43mself\u001b[39;49m\u001b[38;5;241;43m.\u001b[39;49m\u001b[43m_jdf\u001b[49m\u001b[38;5;241;43m.\u001b[39;49m\u001b[43mapply\u001b[49m\u001b[43m(\u001b[49m\u001b[43mitem\u001b[49m\u001b[43m)\u001b[49m\n\u001b[1;32m   3081\u001b[0m     \u001b[38;5;28;01mreturn\u001b[39;00m Column(jc)\n\u001b[1;32m   3082\u001b[0m \u001b[38;5;28;01melif\u001b[39;00m \u001b[38;5;28misinstance\u001b[39m(item, Column):\n",
      "File \u001b[0;32m~/.pyenv/versions/3.10.13/lib/python3.10/site-packages/py4j/java_gateway.py:1322\u001b[0m, in \u001b[0;36mJavaMember.__call__\u001b[0;34m(self, *args)\u001b[0m\n\u001b[1;32m   1316\u001b[0m command \u001b[38;5;241m=\u001b[39m proto\u001b[38;5;241m.\u001b[39mCALL_COMMAND_NAME \u001b[38;5;241m+\u001b[39m\\\n\u001b[1;32m   1317\u001b[0m     \u001b[38;5;28mself\u001b[39m\u001b[38;5;241m.\u001b[39mcommand_header \u001b[38;5;241m+\u001b[39m\\\n\u001b[1;32m   1318\u001b[0m     args_command \u001b[38;5;241m+\u001b[39m\\\n\u001b[1;32m   1319\u001b[0m     proto\u001b[38;5;241m.\u001b[39mEND_COMMAND_PART\n\u001b[1;32m   1321\u001b[0m answer \u001b[38;5;241m=\u001b[39m \u001b[38;5;28mself\u001b[39m\u001b[38;5;241m.\u001b[39mgateway_client\u001b[38;5;241m.\u001b[39msend_command(command)\n\u001b[0;32m-> 1322\u001b[0m return_value \u001b[38;5;241m=\u001b[39m \u001b[43mget_return_value\u001b[49m\u001b[43m(\u001b[49m\n\u001b[1;32m   1323\u001b[0m \u001b[43m    \u001b[49m\u001b[43manswer\u001b[49m\u001b[43m,\u001b[49m\u001b[43m \u001b[49m\u001b[38;5;28;43mself\u001b[39;49m\u001b[38;5;241;43m.\u001b[39;49m\u001b[43mgateway_client\u001b[49m\u001b[43m,\u001b[49m\u001b[43m \u001b[49m\u001b[38;5;28;43mself\u001b[39;49m\u001b[38;5;241;43m.\u001b[39;49m\u001b[43mtarget_id\u001b[49m\u001b[43m,\u001b[49m\u001b[43m \u001b[49m\u001b[38;5;28;43mself\u001b[39;49m\u001b[38;5;241;43m.\u001b[39;49m\u001b[43mname\u001b[49m\u001b[43m)\u001b[49m\n\u001b[1;32m   1325\u001b[0m \u001b[38;5;28;01mfor\u001b[39;00m temp_arg \u001b[38;5;129;01min\u001b[39;00m temp_args:\n\u001b[1;32m   1326\u001b[0m     \u001b[38;5;28;01mif\u001b[39;00m \u001b[38;5;28mhasattr\u001b[39m(temp_arg, \u001b[38;5;124m\"\u001b[39m\u001b[38;5;124m_detach\u001b[39m\u001b[38;5;124m\"\u001b[39m):\n",
      "File \u001b[0;32m~/.pyenv/versions/3.10.13/lib/python3.10/site-packages/pyspark/errors/exceptions/captured.py:185\u001b[0m, in \u001b[0;36mcapture_sql_exception.<locals>.deco\u001b[0;34m(*a, **kw)\u001b[0m\n\u001b[1;32m    181\u001b[0m converted \u001b[38;5;241m=\u001b[39m convert_exception(e\u001b[38;5;241m.\u001b[39mjava_exception)\n\u001b[1;32m    182\u001b[0m \u001b[38;5;28;01mif\u001b[39;00m \u001b[38;5;129;01mnot\u001b[39;00m \u001b[38;5;28misinstance\u001b[39m(converted, UnknownException):\n\u001b[1;32m    183\u001b[0m     \u001b[38;5;66;03m# Hide where the exception came from that shows a non-Pythonic\u001b[39;00m\n\u001b[1;32m    184\u001b[0m     \u001b[38;5;66;03m# JVM exception message.\u001b[39;00m\n\u001b[0;32m--> 185\u001b[0m     \u001b[38;5;28;01mraise\u001b[39;00m converted \u001b[38;5;28;01mfrom\u001b[39;00m \u001b[38;5;28;01mNone\u001b[39;00m\n\u001b[1;32m    186\u001b[0m \u001b[38;5;28;01melse\u001b[39;00m:\n\u001b[1;32m    187\u001b[0m     \u001b[38;5;28;01mraise\u001b[39;00m\n",
      "\u001b[0;31mAnalysisException\u001b[0m: [UNRESOLVED_COLUMN.WITH_SUGGESTION] A column or function parameter with name `ori` cannot be resolved. Did you mean one of the following? [`flight_id`, `departure_airport`, `departure_time`, `departure_terminal`, `arrival_airport`, `arrival_time`, `carrier`, `flight_number`, `aircraft_code`, `company_code`, `flight_duration`, `number_of_stops`, `blacklisted_in_eu`, `total_price`, `currency`]."
     ]
    }
   ],
   "source": [
    "\n"
   ]
  },
  {
   "cell_type": "code",
   "execution_count": 23,
   "metadata": {},
   "outputs": [],
   "source": [
    "from pyspark.sql.functions import col, explode\n",
    "\n",
    "# Seleccionar columnas relevantes del itinerario\n",
    "details_df = itineraries_df.select(\n",
    "    \"ori\", \"dest\", \"year\", \"month\", \"week\", \"day\",\n",
    "    col(\"itinerary.price.raw\").alias(\"price_raw\"),\n",
    "    col(\"itinerary.legs\").alias(\"legs\"),\n",
    "    col(\"itinerary.farePolicy\").alias(\"farePolicy\"),\n",
    "    col(\"itinerary.isSelfTransfer\").alias(\"isSelfTransfer\"),\n",
    "    col(\"itinerary.isProtectedSelfTransfer\").alias(\"isProtectedSelfTransfer\")\n",
    ")\n",
    "\n",
    "# Explotar legs para dividir los vuelos en filas individuales\n",
    "legs_df = details_df.withColumn(\"leg\", explode(\"legs\")) \\\n",
    "    .withColumn(\"marketing\", explode(\"leg.carriers.marketing\")) \\\n",
    "    .withColumn(\"segments\", explode(\"leg.segments\"))\n",
    "\n",
    "# Definir columnas finales de salida\n",
    "selected_columns = [\n",
    "    \"ori\", \"dest\", \"month\", \"week\", \"day\", \"price_raw\",\n",
    "    col(\"leg.id\").alias(\"leg_id\"),\n",
    "    col(\"leg.origin.name\").alias(\"origin_name\"),\n",
    "    col(\"leg.origin.entityId\").alias(\"origin_entityId\"),\n",
    "    col(\"leg.origin.displayCode\").alias(\"origin_airport\"),\n",
    "    col(\"leg.origin.city\").alias(\"origin_city\"),\n",
    "    col(\"leg.origin.country\").alias(\"origin_country\"),\n",
    "    col(\"leg.destination.name\").alias(\"destination_name\"),\n",
    "    col(\"leg.destination.entityId\").alias(\"destination_entityId\"),\n",
    "    col(\"leg.destination.displayCode\").alias(\"destination_airport\"),\n",
    "    col(\"leg.destination.city\").alias(\"destination_city\"),\n",
    "    col(\"leg.destination.country\").alias(\"destination_country\"),\n",
    "    col(\"leg.durationInMinutes\").alias(\"duration_in_minutes\"),\n",
    "    col(\"leg.isSmallestStops\").alias(\"is_smallest_stops\"),\n",
    "    col(\"leg.timeDeltaInDays\").alias(\"time_delta_days\"),\n",
    "    col(\"leg.departure\").alias(\"departure_time\"),\n",
    "    col(\"leg.arrival\").alias(\"arrival_time\"),\n",
    "    col(\"leg.carriers.operationType\").alias(\"company_operation_type\"),\n",
    "    col(\"segments.flightNumber\").alias(\"flight_number\"),\n",
    "    col(\"segments.marketingCarrier.name\").alias(\"marketing_company_name\"),\n",
    "    col(\"segments.marketingCarrier.alternateId\").alias(\"marketing_company_code\"),\n",
    "    col(\"segments.operatingCarrier.name\").alias(\"operating_company_name\"),\n",
    "    col(\"segments.operatingCarrier.alternateId\").alias(\"operating_company_code\"),\n",
    "    col(\"isSelfTransfer\"),\n",
    "    col(\"isProtectedSelfTransfer\"),\n",
    "    col(\"farePolicy.isChangeAllowed\"),\n",
    "    col(\"farePolicy.isPartiallyChangeable\"),\n",
    "    col(\"farePolicy.isCancellationAllowed\"),\n",
    "    col(\"farePolicy.isPartiallyRefundable\")\n",
    "]\n",
    "\n",
    "# Crear el DataFrame final con los datos limpios y estructurados\n",
    "final_legs_df = legs_df.select(*selected_columns)\n",
    "\n",
    "# Guardar en formato parquet en S3 (descomentar si es necesario)\n",
    "# output_flights_path = \"s3://my-aws-project-v1/transformed/skyscanner/flights\"\n",
    "# final_legs_df.write.format(\"parquet\").mode(\"overwrite\").partitionBy(\"ori\", \"dest\", \"year\", \"month\", \"week\", \"day\").save(output_flights_path)\n"
   ]
  },
  {
   "cell_type": "code",
   "execution_count": 24,
   "metadata": {},
   "outputs": [
    {
     "name": "stdout",
     "output_type": "stream",
     "text": [
      "+---+----+-----+----+---+---------+--------------------+-----------+--------------+-----------+--------------+------------------+-------------------+----------------+-------------------+-------------------+-----------------+---------------+-------------------+-------------------+----------------------+-------------+----------------------+----------------------+----------------------+----------------------+--------------+-----------------------+---------------+---------------------+---------------------+---------------------+\n",
      "|ori|dest|month|week|day|price_raw|              leg_id|origin_name|origin_airport|origin_city|origin_country|  destination_name|destination_airport|destination_city|destination_country|duration_in_minutes|is_smallest_stops|time_delta_days|     departure_time|       arrival_time|company_operation_type|flight_number|marketing_company_name|marketing_company_code|operating_company_name|operating_company_code|isSelfTransfer|isProtectedSelfTransfer|isChangeAllowed|isPartiallyChangeable|isCancellationAllowed|isPartiallyRefundable|\n",
      "+---+----+-----+----+---+---------+--------------------+-----------+--------------+-----------+--------------+------------------+-------------------+----------------+-------------------+-------------------+-----------------+---------------+-------------------+-------------------+----------------------+-------------+----------------------+----------------------+----------------------+----------------------+--------------+-----------------------+---------------+---------------------+---------------------+---------------------+\n",
      "|MAD| BCN|     |   4| 12|     86.7|13870-2409110705-...|     Madrid|           MAD|     Madrid|         Spain|Amsterdam Schiphol|                AMS|       Amsterdam|        Netherlands|                155|            false|              0|2024-09-11T07:05:00|2024-09-11T09:40:00|        fully_operated|         1091|            Air Europa|                    UX|            Air Europa|                    UX|         false|                  false|          false|                false|                false|                false|\n",
      "|MAD| BCN|     |   4| 12|   160.26|13870-2409111305-...|     Madrid|           MAD|     Madrid|         Spain|Amsterdam Schiphol|                AMS|       Amsterdam|        Netherlands|                160|            false|              0|2024-09-11T13:05:00|2024-09-11T15:45:00|        fully_operated|         3720|        Iberia Express|                    I2|        Iberia Express|                    I2|         false|                  false|          false|                false|                false|                false|\n",
      "|MAD| BCN|     |   4| 12|   164.99|13870-2409111305-...|     Madrid|           MAD|     Madrid|         Spain|Amsterdam Schiphol|                AMS|       Amsterdam|        Netherlands|                160|            false|              0|2024-09-11T13:05:00|2024-09-11T15:45:00|          not_operated|         3720|                Iberia|                    IB|        Iberia Express|                    I2|         false|                  false|          false|                false|                false|                false|\n",
      "|MAD| BCN|     |   4| 12|   160.26|13870-2409110840-...|     Madrid|           MAD|     Madrid|         Spain|Amsterdam Schiphol|                AMS|       Amsterdam|        Netherlands|                160|            false|              0|2024-09-11T08:40:00|2024-09-11T11:20:00|        fully_operated|         3722|        Iberia Express|                    I2|        Iberia Express|                    I2|         false|                  false|          false|                false|                false|                false|\n",
      "|MAD| BCN|     |   4| 12|   164.99|13870-2409110840-...|     Madrid|           MAD|     Madrid|         Spain|Amsterdam Schiphol|                AMS|       Amsterdam|        Netherlands|                160|            false|              0|2024-09-11T08:40:00|2024-09-11T11:20:00|          not_operated|         3722|                Iberia|                    IB|        Iberia Express|                    I2|         false|                  false|          false|                false|                false|                false|\n",
      "|MAD| BCN|     |   4| 12|   174.09|13870-2409111550-...|     Madrid|           MAD|     Madrid|         Spain|Amsterdam Schiphol|                AMS|       Amsterdam|        Netherlands|                160|            false|              0|2024-09-11T15:50:00|2024-09-11T18:30:00|        fully_operated|         3724|        Iberia Express|                    I2|        Iberia Express|                    I2|         false|                  false|          false|                false|                false|                false|\n",
      "|MAD| BCN|     |   4| 12|   179.99|13870-2409111550-...|     Madrid|           MAD|     Madrid|         Spain|Amsterdam Schiphol|                AMS|       Amsterdam|        Netherlands|                160|            false|              0|2024-09-11T15:50:00|2024-09-11T18:30:00|          not_operated|         3724|                Iberia|                    IB|        Iberia Express|                    I2|         false|                  false|          false|                false|                false|                false|\n",
      "|MAD| BCN|     |   4| 12|    202.2|13870-2409111500-...|     Madrid|           MAD|     Madrid|         Spain|Amsterdam Schiphol|                AMS|       Amsterdam|        Netherlands|                155|            false|              0|2024-09-11T15:00:00|2024-09-11T17:35:00|        fully_operated|         1093|            Air Europa|                    UX|            Air Europa|                    UX|         false|                  false|          false|                false|                false|                false|\n",
      "|MAD| BCN|     |   4| 12|   218.38|13870-2409111550-...|     Madrid|           MAD|     Madrid|         Spain|Amsterdam Schiphol|                AMS|       Amsterdam|        Netherlands|                160|            false|              0|2024-09-11T15:50:00|2024-09-11T18:30:00|          not_operated|         5826|      Vueling Airlines|                    07|        Iberia Express|                    I2|         false|                  false|          false|                false|                false|                false|\n",
      "+---+----+-----+----+---+---------+--------------------+-----------+--------------+-----------+--------------+------------------+-------------------+----------------+-------------------+-------------------+-----------------+---------------+-------------------+-------------------+----------------------+-------------+----------------------+----------------------+----------------------+----------------------+--------------+-----------------------+---------------+---------------------+---------------------+---------------------+\n",
      "\n"
     ]
    }
   ],
   "source": [
    "final_legs_df.show()"
   ]
  },
  {
   "cell_type": "code",
   "execution_count": 25,
   "metadata": {},
   "outputs": [],
   "source": [
    "spark.stop()"
   ]
  }
 ],
 "metadata": {
  "kernelspec": {
   "display_name": "3.10.13",
   "language": "python",
   "name": "python3"
  },
  "language_info": {
   "codemirror_mode": {
    "name": "ipython",
    "version": 3
   },
   "file_extension": ".py",
   "mimetype": "text/x-python",
   "name": "python",
   "nbconvert_exporter": "python",
   "pygments_lexer": "ipython3",
   "version": "3.10.13"
  }
 },
 "nbformat": 4,
 "nbformat_minor": 2
}
