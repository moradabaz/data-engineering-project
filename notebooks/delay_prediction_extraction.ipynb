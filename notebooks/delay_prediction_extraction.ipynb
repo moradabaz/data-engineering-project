{
 "cells": [
  {
   "cell_type": "code",
   "execution_count": 3,
   "metadata": {},
   "outputs": [],
   "source": [
    "import os\n",
    "import sys\n",
    "from pyspark.sql import SparkSession\n",
    "from pyspark.sql.functions import explode, concat, col, regexp_extract,  regexp_replace, coalesce, lit, date_format"
   ]
  },
  {
   "cell_type": "code",
   "execution_count": 4,
   "metadata": {},
   "outputs": [
    {
     "name": "stderr",
     "output_type": "stream",
     "text": [
      "your 131072x1 screen size is bogus. expect trouble\n",
      "25/02/11 22:45:43 WARN Utils: Your hostname, 01120230807W11I resolves to a loopback address: 127.0.1.1; using 172.24.33.137 instead (on interface eth0)\n",
      "25/02/11 22:45:43 WARN Utils: Set SPARK_LOCAL_IP if you need to bind to another address\n",
      "Setting default log level to \"WARN\".\n",
      "To adjust logging level use sc.setLogLevel(newLevel). For SparkR, use setLogLevel(newLevel).\n",
      "25/02/11 22:45:45 WARN NativeCodeLoader: Unable to load native-hadoop library for your platform... using builtin-java classes where applicable\n"
     ]
    }
   ],
   "source": [
    "spark = SparkSession.builder \\\n",
    "    .appName(\"Notebook Glue Job Simulation\") \\\n",
    "    .config(\"spark.driver.memory\", \"2g\") \\\n",
    "    .config(\"spark.executor.memory\", \"2g\") \\\n",
    "    .getOrCreate()"
   ]
  },
  {
   "cell_type": "code",
   "execution_count": 6,
   "metadata": {},
   "outputs": [],
   "source": [
    "json_path = \"../data/delay_prediction_example.json\"\n",
    "df = spark.read.option(\"multiline\", \"true\").json(json_path)"
   ]
  },
  {
   "cell_type": "code",
   "execution_count": 7,
   "metadata": {},
   "outputs": [
    {
     "name": "stdout",
     "output_type": "stream",
     "text": [
      "root\n",
      " |-- flight_data: struct (nullable = true)\n",
      " |    |-- aircraft_code: string (nullable = true)\n",
      " |    |-- arrival: string (nullable = true)\n",
      " |    |-- arrival_date: string (nullable = true)\n",
      " |    |-- arrival_time: string (nullable = true)\n",
      " |    |-- carrier: string (nullable = true)\n",
      " |    |-- departure: string (nullable = true)\n",
      " |    |-- departure_date: string (nullable = true)\n",
      " |    |-- departure_time: string (nullable = true)\n",
      " |    |-- flight_duration: string (nullable = true)\n",
      " |    |-- flight_number: string (nullable = true)\n",
      " |-- prediction_data: array (nullable = true)\n",
      " |    |-- element: struct (containsNull = true)\n",
      " |    |    |-- id: string (nullable = true)\n",
      " |    |    |-- probability: string (nullable = true)\n",
      " |    |    |-- result: string (nullable = true)\n",
      " |    |    |-- subType: string (nullable = true)\n",
      " |    |    |-- type: string (nullable = true)\n",
      "\n"
     ]
    }
   ],
   "source": [
    "df.printSchema()"
   ]
  },
  {
   "cell_type": "code",
   "execution_count": 9,
   "metadata": {},
   "outputs": [],
   "source": [
    "df_exploded = df.withColumn(\"prediction\", explode(col(\"prediction_data\")))\n"
   ]
  },
  {
   "cell_type": "code",
   "execution_count": 12,
   "metadata": {},
   "outputs": [],
   "source": [
    "df_flattened = df_exploded.select(\n",
    "    # Datos de vuelo\n",
    "    col(\"flight_data.departure\").alias(\"departure_airport\"),\n",
    "    col(\"flight_data.arrival\").alias(\"arrival_airport\"),\n",
    "    col(\"flight_data.departure_date\").alias(\"departure_date\"),\n",
    "    col(\"flight_data.departure_time\").alias(\"departure_time\"),\n",
    "    col(\"flight_data.arrival_date\").alias(\"arrival_date\"),\n",
    "    col(\"flight_data.arrival_time\").alias(\"arrival_time\"),\n",
    "    col(\"flight_data.aircraft_code\").alias(\"aircraft_code\"),\n",
    "    col(\"flight_data.carrier\").alias(\"carrier\"),\n",
    "    col(\"flight_data.flight_number\").alias(\"flight_number\"),\n",
    "    col(\"flight_data.flight_duration\").alias(\"flight_duration\"),\n",
    "    # Datos de predicción\n",
    "    col(\"prediction.id\").alias(\"prediction_id\"),\n",
    "    col(\"prediction.probability\").alias(\"delay_probability\"),\n",
    "    col(\"prediction.result\").alias(\"delay_result\"),\n",
    "    col(\"prediction.subType\").alias(\"sub_type\"),\n",
    "    col(\"prediction.type\").alias(\"type\"),\n",
    "    # 📌 Agregar columnas de particionado\n",
    "    col(\"flight_data.departure_date\").substr(1, 4).alias(\"year\"),\n",
    "    col(\"flight_data.departure_date\").substr(6, 2).alias(\"month\"),\n",
    "    col(\"flight_data.departure_date\").substr(9, 2).alias(\"day\"),\n",
    ")"
   ]
  },
  {
   "cell_type": "code",
   "execution_count": 13,
   "metadata": {},
   "outputs": [
    {
     "name": "stdout",
     "output_type": "stream",
     "text": [
      "+-----------------+---------------+--------------+--------------+------------+------------+-------------+-------+-------------+---------------+--------------------+-----------------+--------------------+------------+----------+----+-----+---+\n",
      "|departure_airport|arrival_airport|departure_date|departure_time|arrival_date|arrival_time|aircraft_code|carrier|flight_number|flight_duration|       prediction_id|delay_probability|        delay_result|    sub_type|      type|year|month|day|\n",
      "+-----------------+---------------+--------------+--------------+------------+------------+-------------+-------+-------------+---------------+--------------------+-----------------+--------------------+------------+----------+----+-----+---+\n",
      "|              MAD|            RAK|    2024-09-22|      23:50:00|  2024-09-23|    00:55:00|          73H|     UX|         1423|         PT2H5M|TK1816NCEIST20200801|       0.26012117|LESS_THAN_30_MINUTES|flight-delay|prediction|2024|   09| 22|\n",
      "|              MAD|            RAK|    2024-09-22|      23:50:00|  2024-09-23|    00:55:00|          73H|     UX|         1423|         PT2H5M|TK1816NCEIST20200801|       0.40128458|BETWEEN_30_AND_60...|flight-delay|prediction|2024|   09| 22|\n",
      "|              MAD|            RAK|    2024-09-22|      23:50:00|  2024-09-23|    00:55:00|          73H|     UX|         1423|         PT2H5M|TK1816NCEIST20200801|        0.2285377|BETWEEN_60_AND_12...|flight-delay|prediction|2024|   09| 22|\n",
      "|              MAD|            RAK|    2024-09-22|      23:50:00|  2024-09-23|    00:55:00|          73H|     UX|         1423|         PT2H5M|TK1816NCEIST20200801|       0.11005656|OVER_120_MINUTES_...|flight-delay|prediction|2024|   09| 22|\n",
      "+-----------------+---------------+--------------+--------------+------------+------------+-------------+-------+-------------+---------------+--------------------+-----------------+--------------------+------------+----------+----+-----+---+\n",
      "\n"
     ]
    }
   ],
   "source": [
    "df_flattened.show()"
   ]
  },
  {
   "cell_type": "code",
   "execution_count": 14,
   "metadata": {},
   "outputs": [],
   "source": [
    "spark.stop()"
   ]
  }
 ],
 "metadata": {
  "kernelspec": {
   "display_name": "3.10.13",
   "language": "python",
   "name": "python3"
  },
  "language_info": {
   "codemirror_mode": {
    "name": "ipython",
    "version": 3
   },
   "file_extension": ".py",
   "mimetype": "text/x-python",
   "name": "python",
   "nbconvert_exporter": "python",
   "pygments_lexer": "ipython3",
   "version": "3.10.13"
  }
 },
 "nbformat": 4,
 "nbformat_minor": 2
}
